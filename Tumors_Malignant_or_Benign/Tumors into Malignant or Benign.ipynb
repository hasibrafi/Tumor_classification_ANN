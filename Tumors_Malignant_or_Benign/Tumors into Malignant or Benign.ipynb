{
 "cells": [
  {
   "cell_type": "code",
   "execution_count": 1,
   "metadata": {
    "collapsed": true
   },
   "outputs": [],
   "source": [
    "import pandas as pd\n",
    "import numpy as np\n",
    "import matplotlib.pyplot as plt"
   ]
  },
  {
   "cell_type": "code",
   "execution_count": 2,
   "metadata": {
    "collapsed": true
   },
   "outputs": [],
   "source": [
    "dataset = pd.read_csv('tumors into Malignant or Benign.csv')"
   ]
  },
  {
   "cell_type": "code",
   "execution_count": 3,
   "metadata": {},
   "outputs": [
    {
     "data": {
      "text/html": [
       "<div>\n",
       "<style>\n",
       "    .dataframe thead tr:only-child th {\n",
       "        text-align: right;\n",
       "    }\n",
       "\n",
       "    .dataframe thead th {\n",
       "        text-align: left;\n",
       "    }\n",
       "\n",
       "    .dataframe tbody tr th {\n",
       "        vertical-align: top;\n",
       "    }\n",
       "</style>\n",
       "<table border=\"1\" class=\"dataframe\">\n",
       "  <thead>\n",
       "    <tr style=\"text-align: right;\">\n",
       "      <th></th>\n",
       "      <th>id</th>\n",
       "      <th>diagnosis</th>\n",
       "      <th>radius_mean</th>\n",
       "      <th>texture_mean</th>\n",
       "      <th>perimeter_mean</th>\n",
       "      <th>area_mean</th>\n",
       "      <th>smoothness_mean</th>\n",
       "      <th>compactness_mean</th>\n",
       "      <th>concavity_mean</th>\n",
       "      <th>concave points_mean</th>\n",
       "      <th>...</th>\n",
       "      <th>texture_worst</th>\n",
       "      <th>perimeter_worst</th>\n",
       "      <th>area_worst</th>\n",
       "      <th>smoothness_worst</th>\n",
       "      <th>compactness_worst</th>\n",
       "      <th>concavity_worst</th>\n",
       "      <th>concave points_worst</th>\n",
       "      <th>symmetry_worst</th>\n",
       "      <th>fractal_dimension_worst</th>\n",
       "      <th>Unnamed: 32</th>\n",
       "    </tr>\n",
       "  </thead>\n",
       "  <tbody>\n",
       "    <tr>\n",
       "      <th>0</th>\n",
       "      <td>842302</td>\n",
       "      <td>M</td>\n",
       "      <td>17.99</td>\n",
       "      <td>10.38</td>\n",
       "      <td>122.80</td>\n",
       "      <td>1001.0</td>\n",
       "      <td>0.11840</td>\n",
       "      <td>0.27760</td>\n",
       "      <td>0.30010</td>\n",
       "      <td>0.14710</td>\n",
       "      <td>...</td>\n",
       "      <td>17.33</td>\n",
       "      <td>184.60</td>\n",
       "      <td>2019.0</td>\n",
       "      <td>0.1622</td>\n",
       "      <td>0.6656</td>\n",
       "      <td>0.7119</td>\n",
       "      <td>0.2654</td>\n",
       "      <td>0.4601</td>\n",
       "      <td>0.11890</td>\n",
       "      <td>NaN</td>\n",
       "    </tr>\n",
       "    <tr>\n",
       "      <th>1</th>\n",
       "      <td>842517</td>\n",
       "      <td>M</td>\n",
       "      <td>20.57</td>\n",
       "      <td>17.77</td>\n",
       "      <td>132.90</td>\n",
       "      <td>1326.0</td>\n",
       "      <td>0.08474</td>\n",
       "      <td>0.07864</td>\n",
       "      <td>0.08690</td>\n",
       "      <td>0.07017</td>\n",
       "      <td>...</td>\n",
       "      <td>23.41</td>\n",
       "      <td>158.80</td>\n",
       "      <td>1956.0</td>\n",
       "      <td>0.1238</td>\n",
       "      <td>0.1866</td>\n",
       "      <td>0.2416</td>\n",
       "      <td>0.1860</td>\n",
       "      <td>0.2750</td>\n",
       "      <td>0.08902</td>\n",
       "      <td>NaN</td>\n",
       "    </tr>\n",
       "    <tr>\n",
       "      <th>2</th>\n",
       "      <td>84300903</td>\n",
       "      <td>M</td>\n",
       "      <td>19.69</td>\n",
       "      <td>21.25</td>\n",
       "      <td>130.00</td>\n",
       "      <td>1203.0</td>\n",
       "      <td>0.10960</td>\n",
       "      <td>0.15990</td>\n",
       "      <td>0.19740</td>\n",
       "      <td>0.12790</td>\n",
       "      <td>...</td>\n",
       "      <td>25.53</td>\n",
       "      <td>152.50</td>\n",
       "      <td>1709.0</td>\n",
       "      <td>0.1444</td>\n",
       "      <td>0.4245</td>\n",
       "      <td>0.4504</td>\n",
       "      <td>0.2430</td>\n",
       "      <td>0.3613</td>\n",
       "      <td>0.08758</td>\n",
       "      <td>NaN</td>\n",
       "    </tr>\n",
       "    <tr>\n",
       "      <th>3</th>\n",
       "      <td>84348301</td>\n",
       "      <td>M</td>\n",
       "      <td>11.42</td>\n",
       "      <td>20.38</td>\n",
       "      <td>77.58</td>\n",
       "      <td>386.1</td>\n",
       "      <td>0.14250</td>\n",
       "      <td>0.28390</td>\n",
       "      <td>0.24140</td>\n",
       "      <td>0.10520</td>\n",
       "      <td>...</td>\n",
       "      <td>26.50</td>\n",
       "      <td>98.87</td>\n",
       "      <td>567.7</td>\n",
       "      <td>0.2098</td>\n",
       "      <td>0.8663</td>\n",
       "      <td>0.6869</td>\n",
       "      <td>0.2575</td>\n",
       "      <td>0.6638</td>\n",
       "      <td>0.17300</td>\n",
       "      <td>NaN</td>\n",
       "    </tr>\n",
       "    <tr>\n",
       "      <th>4</th>\n",
       "      <td>84358402</td>\n",
       "      <td>M</td>\n",
       "      <td>20.29</td>\n",
       "      <td>14.34</td>\n",
       "      <td>135.10</td>\n",
       "      <td>1297.0</td>\n",
       "      <td>0.10030</td>\n",
       "      <td>0.13280</td>\n",
       "      <td>0.19800</td>\n",
       "      <td>0.10430</td>\n",
       "      <td>...</td>\n",
       "      <td>16.67</td>\n",
       "      <td>152.20</td>\n",
       "      <td>1575.0</td>\n",
       "      <td>0.1374</td>\n",
       "      <td>0.2050</td>\n",
       "      <td>0.4000</td>\n",
       "      <td>0.1625</td>\n",
       "      <td>0.2364</td>\n",
       "      <td>0.07678</td>\n",
       "      <td>NaN</td>\n",
       "    </tr>\n",
       "    <tr>\n",
       "      <th>5</th>\n",
       "      <td>843786</td>\n",
       "      <td>M</td>\n",
       "      <td>12.45</td>\n",
       "      <td>15.70</td>\n",
       "      <td>82.57</td>\n",
       "      <td>477.1</td>\n",
       "      <td>0.12780</td>\n",
       "      <td>0.17000</td>\n",
       "      <td>0.15780</td>\n",
       "      <td>0.08089</td>\n",
       "      <td>...</td>\n",
       "      <td>23.75</td>\n",
       "      <td>103.40</td>\n",
       "      <td>741.6</td>\n",
       "      <td>0.1791</td>\n",
       "      <td>0.5249</td>\n",
       "      <td>0.5355</td>\n",
       "      <td>0.1741</td>\n",
       "      <td>0.3985</td>\n",
       "      <td>0.12440</td>\n",
       "      <td>NaN</td>\n",
       "    </tr>\n",
       "    <tr>\n",
       "      <th>6</th>\n",
       "      <td>844359</td>\n",
       "      <td>M</td>\n",
       "      <td>18.25</td>\n",
       "      <td>19.98</td>\n",
       "      <td>119.60</td>\n",
       "      <td>1040.0</td>\n",
       "      <td>0.09463</td>\n",
       "      <td>0.10900</td>\n",
       "      <td>0.11270</td>\n",
       "      <td>0.07400</td>\n",
       "      <td>...</td>\n",
       "      <td>27.66</td>\n",
       "      <td>153.20</td>\n",
       "      <td>1606.0</td>\n",
       "      <td>0.1442</td>\n",
       "      <td>0.2576</td>\n",
       "      <td>0.3784</td>\n",
       "      <td>0.1932</td>\n",
       "      <td>0.3063</td>\n",
       "      <td>0.08368</td>\n",
       "      <td>NaN</td>\n",
       "    </tr>\n",
       "    <tr>\n",
       "      <th>7</th>\n",
       "      <td>84458202</td>\n",
       "      <td>M</td>\n",
       "      <td>13.71</td>\n",
       "      <td>20.83</td>\n",
       "      <td>90.20</td>\n",
       "      <td>577.9</td>\n",
       "      <td>0.11890</td>\n",
       "      <td>0.16450</td>\n",
       "      <td>0.09366</td>\n",
       "      <td>0.05985</td>\n",
       "      <td>...</td>\n",
       "      <td>28.14</td>\n",
       "      <td>110.60</td>\n",
       "      <td>897.0</td>\n",
       "      <td>0.1654</td>\n",
       "      <td>0.3682</td>\n",
       "      <td>0.2678</td>\n",
       "      <td>0.1556</td>\n",
       "      <td>0.3196</td>\n",
       "      <td>0.11510</td>\n",
       "      <td>NaN</td>\n",
       "    </tr>\n",
       "    <tr>\n",
       "      <th>8</th>\n",
       "      <td>844981</td>\n",
       "      <td>M</td>\n",
       "      <td>13.00</td>\n",
       "      <td>21.82</td>\n",
       "      <td>87.50</td>\n",
       "      <td>519.8</td>\n",
       "      <td>0.12730</td>\n",
       "      <td>0.19320</td>\n",
       "      <td>0.18590</td>\n",
       "      <td>0.09353</td>\n",
       "      <td>...</td>\n",
       "      <td>30.73</td>\n",
       "      <td>106.20</td>\n",
       "      <td>739.3</td>\n",
       "      <td>0.1703</td>\n",
       "      <td>0.5401</td>\n",
       "      <td>0.5390</td>\n",
       "      <td>0.2060</td>\n",
       "      <td>0.4378</td>\n",
       "      <td>0.10720</td>\n",
       "      <td>NaN</td>\n",
       "    </tr>\n",
       "    <tr>\n",
       "      <th>9</th>\n",
       "      <td>84501001</td>\n",
       "      <td>M</td>\n",
       "      <td>12.46</td>\n",
       "      <td>24.04</td>\n",
       "      <td>83.97</td>\n",
       "      <td>475.9</td>\n",
       "      <td>0.11860</td>\n",
       "      <td>0.23960</td>\n",
       "      <td>0.22730</td>\n",
       "      <td>0.08543</td>\n",
       "      <td>...</td>\n",
       "      <td>40.68</td>\n",
       "      <td>97.65</td>\n",
       "      <td>711.4</td>\n",
       "      <td>0.1853</td>\n",
       "      <td>1.0580</td>\n",
       "      <td>1.1050</td>\n",
       "      <td>0.2210</td>\n",
       "      <td>0.4366</td>\n",
       "      <td>0.20750</td>\n",
       "      <td>NaN</td>\n",
       "    </tr>\n",
       "  </tbody>\n",
       "</table>\n",
       "<p>10 rows × 33 columns</p>\n",
       "</div>"
      ],
      "text/plain": [
       "         id diagnosis  radius_mean  texture_mean  perimeter_mean  area_mean  \\\n",
       "0    842302         M        17.99         10.38          122.80     1001.0   \n",
       "1    842517         M        20.57         17.77          132.90     1326.0   \n",
       "2  84300903         M        19.69         21.25          130.00     1203.0   \n",
       "3  84348301         M        11.42         20.38           77.58      386.1   \n",
       "4  84358402         M        20.29         14.34          135.10     1297.0   \n",
       "5    843786         M        12.45         15.70           82.57      477.1   \n",
       "6    844359         M        18.25         19.98          119.60     1040.0   \n",
       "7  84458202         M        13.71         20.83           90.20      577.9   \n",
       "8    844981         M        13.00         21.82           87.50      519.8   \n",
       "9  84501001         M        12.46         24.04           83.97      475.9   \n",
       "\n",
       "   smoothness_mean  compactness_mean  concavity_mean  concave points_mean  \\\n",
       "0          0.11840           0.27760         0.30010              0.14710   \n",
       "1          0.08474           0.07864         0.08690              0.07017   \n",
       "2          0.10960           0.15990         0.19740              0.12790   \n",
       "3          0.14250           0.28390         0.24140              0.10520   \n",
       "4          0.10030           0.13280         0.19800              0.10430   \n",
       "5          0.12780           0.17000         0.15780              0.08089   \n",
       "6          0.09463           0.10900         0.11270              0.07400   \n",
       "7          0.11890           0.16450         0.09366              0.05985   \n",
       "8          0.12730           0.19320         0.18590              0.09353   \n",
       "9          0.11860           0.23960         0.22730              0.08543   \n",
       "\n",
       "      ...       texture_worst  perimeter_worst  area_worst  smoothness_worst  \\\n",
       "0     ...               17.33           184.60      2019.0            0.1622   \n",
       "1     ...               23.41           158.80      1956.0            0.1238   \n",
       "2     ...               25.53           152.50      1709.0            0.1444   \n",
       "3     ...               26.50            98.87       567.7            0.2098   \n",
       "4     ...               16.67           152.20      1575.0            0.1374   \n",
       "5     ...               23.75           103.40       741.6            0.1791   \n",
       "6     ...               27.66           153.20      1606.0            0.1442   \n",
       "7     ...               28.14           110.60       897.0            0.1654   \n",
       "8     ...               30.73           106.20       739.3            0.1703   \n",
       "9     ...               40.68            97.65       711.4            0.1853   \n",
       "\n",
       "   compactness_worst  concavity_worst  concave points_worst  symmetry_worst  \\\n",
       "0             0.6656           0.7119                0.2654          0.4601   \n",
       "1             0.1866           0.2416                0.1860          0.2750   \n",
       "2             0.4245           0.4504                0.2430          0.3613   \n",
       "3             0.8663           0.6869                0.2575          0.6638   \n",
       "4             0.2050           0.4000                0.1625          0.2364   \n",
       "5             0.5249           0.5355                0.1741          0.3985   \n",
       "6             0.2576           0.3784                0.1932          0.3063   \n",
       "7             0.3682           0.2678                0.1556          0.3196   \n",
       "8             0.5401           0.5390                0.2060          0.4378   \n",
       "9             1.0580           1.1050                0.2210          0.4366   \n",
       "\n",
       "   fractal_dimension_worst  Unnamed: 32  \n",
       "0                  0.11890          NaN  \n",
       "1                  0.08902          NaN  \n",
       "2                  0.08758          NaN  \n",
       "3                  0.17300          NaN  \n",
       "4                  0.07678          NaN  \n",
       "5                  0.12440          NaN  \n",
       "6                  0.08368          NaN  \n",
       "7                  0.11510          NaN  \n",
       "8                  0.10720          NaN  \n",
       "9                  0.20750          NaN  \n",
       "\n",
       "[10 rows x 33 columns]"
      ]
     },
     "execution_count": 3,
     "metadata": {},
     "output_type": "execute_result"
    }
   ],
   "source": [
    "dataset.head(10)"
   ]
  },
  {
   "cell_type": "code",
   "execution_count": 4,
   "metadata": {},
   "outputs": [
    {
     "name": "stdout",
     "output_type": "stream",
     "text": [
      "<class 'pandas.core.frame.DataFrame'>\n",
      "RangeIndex: 569 entries, 0 to 568\n",
      "Data columns (total 33 columns):\n",
      "id                         569 non-null int64\n",
      "diagnosis                  569 non-null object\n",
      "radius_mean                569 non-null float64\n",
      "texture_mean               569 non-null float64\n",
      "perimeter_mean             569 non-null float64\n",
      "area_mean                  569 non-null float64\n",
      "smoothness_mean            569 non-null float64\n",
      "compactness_mean           569 non-null float64\n",
      "concavity_mean             569 non-null float64\n",
      "concave points_mean        569 non-null float64\n",
      "symmetry_mean              569 non-null float64\n",
      "fractal_dimension_mean     569 non-null float64\n",
      "radius_se                  569 non-null float64\n",
      "texture_se                 569 non-null float64\n",
      "perimeter_se               569 non-null float64\n",
      "area_se                    569 non-null float64\n",
      "smoothness_se              569 non-null float64\n",
      "compactness_se             569 non-null float64\n",
      "concavity_se               569 non-null float64\n",
      "concave points_se          569 non-null float64\n",
      "symmetry_se                569 non-null float64\n",
      "fractal_dimension_se       569 non-null float64\n",
      "radius_worst               569 non-null float64\n",
      "texture_worst              569 non-null float64\n",
      "perimeter_worst            569 non-null float64\n",
      "area_worst                 569 non-null float64\n",
      "smoothness_worst           569 non-null float64\n",
      "compactness_worst          569 non-null float64\n",
      "concavity_worst            569 non-null float64\n",
      "concave points_worst       569 non-null float64\n",
      "symmetry_worst             569 non-null float64\n",
      "fractal_dimension_worst    569 non-null float64\n",
      "Unnamed: 32                0 non-null float64\n",
      "dtypes: float64(31), int64(1), object(1)\n",
      "memory usage: 146.8+ KB\n"
     ]
    }
   ],
   "source": [
    "dataset.info()"
   ]
  },
  {
   "cell_type": "code",
   "execution_count": 5,
   "metadata": {},
   "outputs": [],
   "source": [
    "X = dataset.iloc[:, 2:32].values"
   ]
  },
  {
   "cell_type": "code",
   "execution_count": 6,
   "metadata": {},
   "outputs": [
    {
     "data": {
      "text/plain": [
       "array([[1.799e+01, 1.038e+01, 1.228e+02, 1.001e+03, 1.184e-01, 2.776e-01,\n",
       "        3.001e-01, 1.471e-01, 2.419e-01, 7.871e-02, 1.095e+00, 9.053e-01,\n",
       "        8.589e+00, 1.534e+02, 6.399e-03, 4.904e-02, 5.373e-02, 1.587e-02,\n",
       "        3.003e-02, 6.193e-03, 2.538e+01, 1.733e+01, 1.846e+02, 2.019e+03,\n",
       "        1.622e-01, 6.656e-01, 7.119e-01, 2.654e-01, 4.601e-01, 1.189e-01],\n",
       "       [2.057e+01, 1.777e+01, 1.329e+02, 1.326e+03, 8.474e-02, 7.864e-02,\n",
       "        8.690e-02, 7.017e-02, 1.812e-01, 5.667e-02, 5.435e-01, 7.339e-01,\n",
       "        3.398e+00, 7.408e+01, 5.225e-03, 1.308e-02, 1.860e-02, 1.340e-02,\n",
       "        1.389e-02, 3.532e-03, 2.499e+01, 2.341e+01, 1.588e+02, 1.956e+03,\n",
       "        1.238e-01, 1.866e-01, 2.416e-01, 1.860e-01, 2.750e-01, 8.902e-02],\n",
       "       [1.969e+01, 2.125e+01, 1.300e+02, 1.203e+03, 1.096e-01, 1.599e-01,\n",
       "        1.974e-01, 1.279e-01, 2.069e-01, 5.999e-02, 7.456e-01, 7.869e-01,\n",
       "        4.585e+00, 9.403e+01, 6.150e-03, 4.006e-02, 3.832e-02, 2.058e-02,\n",
       "        2.250e-02, 4.571e-03, 2.357e+01, 2.553e+01, 1.525e+02, 1.709e+03,\n",
       "        1.444e-01, 4.245e-01, 4.504e-01, 2.430e-01, 3.613e-01, 8.758e-02],\n",
       "       [1.142e+01, 2.038e+01, 7.758e+01, 3.861e+02, 1.425e-01, 2.839e-01,\n",
       "        2.414e-01, 1.052e-01, 2.597e-01, 9.744e-02, 4.956e-01, 1.156e+00,\n",
       "        3.445e+00, 2.723e+01, 9.110e-03, 7.458e-02, 5.661e-02, 1.867e-02,\n",
       "        5.963e-02, 9.208e-03, 1.491e+01, 2.650e+01, 9.887e+01, 5.677e+02,\n",
       "        2.098e-01, 8.663e-01, 6.869e-01, 2.575e-01, 6.638e-01, 1.730e-01],\n",
       "       [2.029e+01, 1.434e+01, 1.351e+02, 1.297e+03, 1.003e-01, 1.328e-01,\n",
       "        1.980e-01, 1.043e-01, 1.809e-01, 5.883e-02, 7.572e-01, 7.813e-01,\n",
       "        5.438e+00, 9.444e+01, 1.149e-02, 2.461e-02, 5.688e-02, 1.885e-02,\n",
       "        1.756e-02, 5.115e-03, 2.254e+01, 1.667e+01, 1.522e+02, 1.575e+03,\n",
       "        1.374e-01, 2.050e-01, 4.000e-01, 1.625e-01, 2.364e-01, 7.678e-02]])"
      ]
     },
     "execution_count": 6,
     "metadata": {},
     "output_type": "execute_result"
    }
   ],
   "source": [
    "X[:5]"
   ]
  },
  {
   "cell_type": "code",
   "execution_count": 7,
   "metadata": {
    "collapsed": true
   },
   "outputs": [],
   "source": [
    "y = dataset.iloc[:, 1]"
   ]
  },
  {
   "cell_type": "code",
   "execution_count": 8,
   "metadata": {},
   "outputs": [
    {
     "data": {
      "text/plain": [
       "0    M\n",
       "1    M\n",
       "2    M\n",
       "3    M\n",
       "4    M\n",
       "5    M\n",
       "6    M\n",
       "7    M\n",
       "8    M\n",
       "9    M\n",
       "Name: diagnosis, dtype: object"
      ]
     },
     "execution_count": 8,
     "metadata": {},
     "output_type": "execute_result"
    }
   ],
   "source": [
    "y[:10]"
   ]
  },
  {
   "cell_type": "code",
   "execution_count": 9,
   "metadata": {
    "collapsed": true
   },
   "outputs": [],
   "source": [
    "from sklearn.preprocessing import LabelEncoder\n",
    "labelencoder_Y = LabelEncoder()\n",
    "y = labelencoder_Y.fit_transform(y)"
   ]
  },
  {
   "cell_type": "code",
   "execution_count": 10,
   "metadata": {},
   "outputs": [
    {
     "data": {
      "text/plain": [
       "array([1, 1, 1, 1, 1, 1, 1, 1, 1, 1], dtype=int64)"
      ]
     },
     "execution_count": 10,
     "metadata": {},
     "output_type": "execute_result"
    }
   ],
   "source": [
    "y[:10]"
   ]
  },
  {
   "cell_type": "code",
   "execution_count": 11,
   "metadata": {
    "collapsed": true
   },
   "outputs": [],
   "source": [
    "from sklearn.model_selection import train_test_split\n",
    "X_train, X_test, y_train, y_test = train_test_split(X, y, test_size = 0.2, random_state = 0)"
   ]
  },
  {
   "cell_type": "code",
   "execution_count": 12,
   "metadata": {},
   "outputs": [
    {
     "data": {
      "text/plain": [
       "array([1, 0, 0, 0, 0, 0, 0, 0, 0, 0], dtype=int64)"
      ]
     },
     "execution_count": 12,
     "metadata": {},
     "output_type": "execute_result"
    }
   ],
   "source": [
    "y_test[:10]"
   ]
  },
  {
   "cell_type": "code",
   "execution_count": 13,
   "metadata": {},
   "outputs": [
    {
     "data": {
      "text/plain": [
       "array([1, 0, 0, 0, 0, 0, 0, 0, 0, 0], dtype=int64)"
      ]
     },
     "execution_count": 13,
     "metadata": {},
     "output_type": "execute_result"
    }
   ],
   "source": [
    "y_test[:10]"
   ]
  },
  {
   "cell_type": "code",
   "execution_count": 14,
   "metadata": {
    "collapsed": true
   },
   "outputs": [],
   "source": [
    "from sklearn.preprocessing import StandardScaler\n",
    "sc = StandardScaler()\n",
    "X_train = sc.fit_transform(X_train)\n",
    "X_test = sc.transform(X_test)"
   ]
  },
  {
   "cell_type": "code",
   "execution_count": 15,
   "metadata": {},
   "outputs": [
    {
     "name": "stderr",
     "output_type": "stream",
     "text": [
      "C:\\Users\\88016\\AppData\\Local\\Continuum\\anaconda3\\lib\\site-packages\\h5py\\__init__.py:34: FutureWarning: Conversion of the second argument of issubdtype from `float` to `np.floating` is deprecated. In future, it will be treated as `np.float64 == np.dtype(float).type`.\n",
      "  from ._conv import register_converters as _register_converters\n",
      "Using TensorFlow backend.\n"
     ]
    },
    {
     "name": "stdout",
     "output_type": "stream",
     "text": [
      "WARNING:tensorflow:From C:\\Users\\88016\\AppData\\Local\\Continuum\\anaconda3\\lib\\site-packages\\tensorflow\\python\\framework\\op_def_library.py:263: colocate_with (from tensorflow.python.framework.ops) is deprecated and will be removed in a future version.\n",
      "Instructions for updating:\n",
      "Colocations handled automatically by placer.\n"
     ]
    }
   ],
   "source": [
    "from keras.models import Sequential\n",
    "from keras.layers import Dense\n",
    "\n",
    "classifier = Sequential() # Initialising the ANN\n",
    "\n",
    "classifier.add(Dense(units = 16, kernel_initializer = 'uniform', activation = 'relu', input_dim = 30))\n",
    "classifier.add(Dense(units = 8, kernel_initializer = 'uniform', activation = 'relu'))\n",
    "classifier.add(Dense(units = 6, kernel_initializer = 'uniform', activation = 'relu'))\n",
    "classifier.add(Dense(units = 1, kernel_initializer = 'uniform', activation = 'sigmoid'))"
   ]
  },
  {
   "cell_type": "code",
   "execution_count": 16,
   "metadata": {},
   "outputs": [],
   "source": [
    "classifier.compile(optimizer = 'rmsprop', loss = 'binary_crossentropy', metrics = ['accuracy'])"
   ]
  },
  {
   "cell_type": "code",
   "execution_count": 17,
   "metadata": {},
   "outputs": [
    {
     "name": "stdout",
     "output_type": "stream",
     "text": [
      "WARNING:tensorflow:From C:\\Users\\88016\\AppData\\Local\\Continuum\\anaconda3\\lib\\site-packages\\tensorflow\\python\\ops\\math_ops.py:3066: to_int32 (from tensorflow.python.ops.math_ops) is deprecated and will be removed in a future version.\n",
      "Instructions for updating:\n",
      "Use tf.cast instead.\n",
      "Epoch 1/100\n",
      "455/455 [==============================] - 1s 1ms/step - loss: 0.4599 - acc: 0.7890\n",
      "Epoch 2/100\n",
      "455/455 [==============================] - 0s 808us/step - loss: 0.1838 - acc: 0.9648\n",
      "Epoch 3/100\n",
      "455/455 [==============================] - 0s 778us/step - loss: 0.1046 - acc: 0.9736\n",
      "Epoch 4/100\n",
      "455/455 [==============================] - 0s 813us/step - loss: 0.1050 - acc: 0.9780\n",
      "Epoch 5/100\n",
      "455/455 [==============================] - 0s 975us/step - loss: 0.1053 - acc: 0.9780\n",
      "Epoch 6/100\n",
      "455/455 [==============================] - 0s 817us/step - loss: 0.0937 - acc: 0.9802\n",
      "Epoch 7/100\n",
      "455/455 [==============================] - 0s 1ms/step - loss: 0.0881 - acc: 0.9846\n",
      "Epoch 8/100\n",
      "455/455 [==============================] - 0s 813us/step - loss: 0.0896 - acc: 0.9868\n",
      "Epoch 9/100\n",
      "455/455 [==============================] - 0s 809us/step - loss: 0.0962 - acc: 0.9846\n",
      "Epoch 10/100\n",
      "455/455 [==============================] - 0s 1ms/step - loss: 0.1041 - acc: 0.9846\n",
      "Epoch 11/100\n",
      "455/455 [==============================] - 0s 830us/step - loss: 0.0922 - acc: 0.9868\n",
      "Epoch 12/100\n",
      "455/455 [==============================] - 0s 839us/step - loss: 0.0959 - acc: 0.9868\n",
      "Epoch 13/100\n",
      "455/455 [==============================] - 0s 806us/step - loss: 0.0874 - acc: 0.9868\n",
      "Epoch 14/100\n",
      "455/455 [==============================] - 0s 1ms/step - loss: 0.0876 - acc: 0.9868\n",
      "Epoch 15/100\n",
      "455/455 [==============================] - 0s 798us/step - loss: 0.0841 - acc: 0.9890\n",
      "Epoch 16/100\n",
      "455/455 [==============================] - 0s 986us/step - loss: 0.0842 - acc: 0.9868\n",
      "Epoch 17/100\n",
      "455/455 [==============================] - 0s 815us/step - loss: 0.0758 - acc: 0.9890\n",
      "Epoch 18/100\n",
      "455/455 [==============================] - 0s 806us/step - loss: 0.0743 - acc: 0.9890\n",
      "Epoch 19/100\n",
      "455/455 [==============================] - 0s 806us/step - loss: 0.0737 - acc: 0.9890\n",
      "Epoch 20/100\n",
      "455/455 [==============================] - 0s 808us/step - loss: 0.0768 - acc: 0.9890\n",
      "Epoch 21/100\n",
      "455/455 [==============================] - 0s 834us/step - loss: 0.0732 - acc: 0.9912\n",
      "Epoch 22/100\n",
      "455/455 [==============================] - 0s 804us/step - loss: 0.0717 - acc: 0.9890\n",
      "Epoch 23/100\n",
      "455/455 [==============================] - 0s 813us/step - loss: 0.0658 - acc: 0.9912\n",
      "Epoch 24/100\n",
      "455/455 [==============================] - 0s 1ms/step - loss: 0.0787 - acc: 0.9912\n",
      "Epoch 25/100\n",
      "455/455 [==============================] - 0s 815us/step - loss: 0.0756 - acc: 0.9912\n",
      "Epoch 26/100\n",
      "455/455 [==============================] - 0s 815us/step - loss: 0.0749 - acc: 0.9890\n",
      "Epoch 27/100\n",
      "455/455 [==============================] - 0s 828us/step - loss: 0.0642 - acc: 0.9912\n",
      "Epoch 28/100\n",
      "455/455 [==============================] - 0s 817us/step - loss: 0.0700 - acc: 0.9890\n",
      "Epoch 29/100\n",
      "455/455 [==============================] - 0s 816us/step - loss: 0.0628 - acc: 0.9890\n",
      "Epoch 30/100\n",
      "455/455 [==============================] - 0s 1ms/step - loss: 0.0858 - acc: 0.9890\n",
      "Epoch 31/100\n",
      "455/455 [==============================] - 0s 808us/step - loss: 0.0747 - acc: 0.9890\n",
      "Epoch 32/100\n",
      "455/455 [==============================] - 0s 822us/step - loss: 0.0704 - acc: 0.9890\n",
      "Epoch 33/100\n",
      "455/455 [==============================] - 0s 826us/step - loss: 0.0755 - acc: 0.9890\n",
      "Epoch 34/100\n",
      "455/455 [==============================] - 0s 863us/step - loss: 0.0658 - acc: 0.9912\n",
      "Epoch 35/100\n",
      "455/455 [==============================] - 0s 808us/step - loss: 0.0745 - acc: 0.9890\n",
      "Epoch 36/100\n",
      "455/455 [==============================] - 0s 863us/step - loss: 0.0724 - acc: 0.9890\n",
      "Epoch 37/100\n",
      "455/455 [==============================] - 0s 938us/step - loss: 0.0608 - acc: 0.9890\n",
      "Epoch 38/100\n",
      "455/455 [==============================] - 0s 837us/step - loss: 0.0649 - acc: 0.9890\n",
      "Epoch 39/100\n",
      "455/455 [==============================] - 0s 817us/step - loss: 0.0612 - acc: 0.9890\n",
      "Epoch 40/100\n",
      "455/455 [==============================] - 0s 822us/step - loss: 0.0607 - acc: 0.9868\n",
      "Epoch 41/100\n",
      "455/455 [==============================] - 0s 1ms/step - loss: 0.0594 - acc: 0.9868\n",
      "Epoch 42/100\n",
      "455/455 [==============================] - 0s 813us/step - loss: 0.0732 - acc: 0.9890\n",
      "Epoch 43/100\n",
      "455/455 [==============================] - 0s 822us/step - loss: 0.0552 - acc: 0.9890\n",
      "Epoch 44/100\n",
      "455/455 [==============================] - 0s 824us/step - loss: 0.0685 - acc: 0.9890\n",
      "Epoch 45/100\n",
      "455/455 [==============================] - 0s 828us/step - loss: 0.0681 - acc: 0.9890\n",
      "Epoch 46/100\n",
      "455/455 [==============================] - 0s 896us/step - loss: 0.0737 - acc: 0.9868\n",
      "Epoch 47/100\n",
      "455/455 [==============================] - 0s 923us/step - loss: 0.0862 - acc: 0.9868\n",
      "Epoch 48/100\n",
      "455/455 [==============================] - 0s 848us/step - loss: 0.0634 - acc: 0.9890\n",
      "Epoch 49/100\n",
      "455/455 [==============================] - 0s 964us/step - loss: 0.0548 - acc: 0.9912\n",
      "Epoch 50/100\n",
      "455/455 [==============================] - 0s 815us/step - loss: 0.0642 - acc: 0.9890\n",
      "Epoch 51/100\n",
      "455/455 [==============================] - 0s 846us/step - loss: 0.0636 - acc: 0.9868\n",
      "Epoch 52/100\n",
      "455/455 [==============================] - 0s 815us/step - loss: 0.0819 - acc: 0.9868\n",
      "Epoch 53/100\n",
      "455/455 [==============================] - 0s 824us/step - loss: 0.0666 - acc: 0.9868\n",
      "Epoch 54/100\n",
      "455/455 [==============================] - 0s 905us/step - loss: 0.0769 - acc: 0.9890\n",
      "Epoch 55/100\n",
      "455/455 [==============================] - 0s 837us/step - loss: 0.0673 - acc: 0.9868\n",
      "Epoch 56/100\n",
      "455/455 [==============================] - 0s 1ms/step - loss: 0.0757 - acc: 0.9868\n",
      "Epoch 57/100\n",
      "455/455 [==============================] - 0s 861us/step - loss: 0.0557 - acc: 0.9868\n",
      "Epoch 58/100\n",
      "455/455 [==============================] - 0s 857us/step - loss: 0.0622 - acc: 0.9890\n",
      "Epoch 59/100\n",
      "455/455 [==============================] - 0s 857us/step - loss: 0.0634 - acc: 0.9890\n",
      "Epoch 60/100\n",
      "455/455 [==============================] - 0s 824us/step - loss: 0.0606 - acc: 0.9868\n",
      "Epoch 61/100\n",
      "455/455 [==============================] - 0s 830us/step - loss: 0.0658 - acc: 0.9868\n",
      "Epoch 62/100\n",
      "455/455 [==============================] - 0s 887us/step - loss: 0.0804 - acc: 0.9890\n",
      "Epoch 63/100\n",
      "455/455 [==============================] - 0s 782us/step - loss: 0.0629 - acc: 0.9890\n",
      "Epoch 64/100\n",
      "455/455 [==============================] - 0s 822us/step - loss: 0.0593 - acc: 0.9868\n",
      "Epoch 65/100\n",
      "455/455 [==============================] - 0s 835us/step - loss: 0.0712 - acc: 0.9868\n",
      "Epoch 66/100\n",
      "455/455 [==============================] - 0s 852us/step - loss: 0.0673 - acc: 0.9868\n",
      "Epoch 67/100\n",
      "455/455 [==============================] - 0s 916us/step - loss: 0.0528 - acc: 0.9890\n",
      "Epoch 68/100\n",
      "455/455 [==============================] - 0s 841us/step - loss: 0.0543 - acc: 0.9868\n",
      "Epoch 69/100\n",
      "455/455 [==============================] - 0s 837us/step - loss: 0.0724 - acc: 0.9890\n",
      "Epoch 70/100\n",
      "455/455 [==============================] - 0s 850us/step - loss: 0.0568 - acc: 0.9890\n",
      "Epoch 71/100\n",
      "455/455 [==============================] - 0s 936us/step - loss: 0.0530 - acc: 0.9912\n",
      "Epoch 72/100\n",
      "455/455 [==============================] - 0s 949us/step - loss: 0.0576 - acc: 0.9890\n",
      "Epoch 73/100\n",
      "455/455 [==============================] - 0s 852us/step - loss: 0.0453 - acc: 0.9890\n",
      "Epoch 74/100\n",
      "455/455 [==============================] - 0s 843us/step - loss: 0.0460 - acc: 0.9890\n",
      "Epoch 75/100\n",
      "455/455 [==============================] - 0s 900us/step - loss: 0.0437 - acc: 0.9912\n",
      "Epoch 76/100\n",
      "455/455 [==============================] - 0s 879us/step - loss: 0.0527 - acc: 0.9912\n",
      "Epoch 77/100\n",
      "455/455 [==============================] - 0s 945us/step - loss: 0.0540 - acc: 0.9912\n",
      "Epoch 78/100\n",
      "455/455 [==============================] - 0s 879us/step - loss: 0.0615 - acc: 0.9890\n",
      "Epoch 79/100\n",
      "455/455 [==============================] - 0s 828us/step - loss: 0.0476 - acc: 0.9868\n",
      "Epoch 80/100\n",
      "455/455 [==============================] - 0s 857us/step - loss: 0.0543 - acc: 0.9890\n",
      "Epoch 81/100\n"
     ]
    },
    {
     "name": "stdout",
     "output_type": "stream",
     "text": [
      "455/455 [==============================] - 0s 830us/step - loss: 0.0526 - acc: 0.9890\n",
      "Epoch 82/100\n",
      "455/455 [==============================] - 0s 750us/step - loss: 0.0409 - acc: 0.9890\n",
      "Epoch 83/100\n",
      "455/455 [==============================] - 0s 749us/step - loss: 0.0433 - acc: 0.9912\n",
      "Epoch 84/100\n",
      "455/455 [==============================] - 0s 753us/step - loss: 0.0678 - acc: 0.9890\n",
      "Epoch 85/100\n",
      "455/455 [==============================] - 0s 751us/step - loss: 0.0470 - acc: 0.9912\n",
      "Epoch 86/100\n",
      "455/455 [==============================] - 0s 789us/step - loss: 0.0390 - acc: 0.9912\n",
      "Epoch 87/100\n",
      "455/455 [==============================] - 0s 778us/step - loss: 0.0467 - acc: 0.9912\n",
      "Epoch 88/100\n",
      "455/455 [==============================] - 0s 839us/step - loss: 0.0629 - acc: 0.9890\n",
      "Epoch 89/100\n",
      "455/455 [==============================] - 0s 766us/step - loss: 0.0458 - acc: 0.9890\n",
      "Epoch 90/100\n",
      "455/455 [==============================] - 0s 760us/step - loss: 0.0480 - acc: 0.9890\n",
      "Epoch 91/100\n",
      "455/455 [==============================] - 0s 778us/step - loss: 0.0513 - acc: 0.9890\n",
      "Epoch 92/100\n",
      "455/455 [==============================] - 0s 778us/step - loss: 0.0461 - acc: 0.9868\n",
      "Epoch 93/100\n",
      "455/455 [==============================] - 0s 760us/step - loss: 0.0630 - acc: 0.9890\n",
      "Epoch 94/100\n",
      "455/455 [==============================] - 0s 775us/step - loss: 0.0512 - acc: 0.9912\n",
      "Epoch 95/100\n",
      "455/455 [==============================] - 0s 767us/step - loss: 0.0621 - acc: 0.9890\n",
      "Epoch 96/100\n",
      "455/455 [==============================] - 0s 756us/step - loss: 0.0614 - acc: 0.9890\n",
      "Epoch 97/100\n",
      "455/455 [==============================] - 0s 835us/step - loss: 0.0687 - acc: 0.9890\n",
      "Epoch 98/100\n",
      "455/455 [==============================] - 0s 819us/step - loss: 0.0497 - acc: 0.9890\n",
      "Epoch 99/100\n",
      "455/455 [==============================] - 0s 826us/step - loss: 0.0427 - acc: 0.9912\n",
      "Epoch 100/100\n",
      "455/455 [==============================] - 0s 778us/step - loss: 0.0542 - acc: 0.9912\n"
     ]
    },
    {
     "data": {
      "text/plain": [
       "<keras.callbacks.History at 0x15947e7def0>"
      ]
     },
     "execution_count": 17,
     "metadata": {},
     "output_type": "execute_result"
    }
   ],
   "source": [
    "classifier.fit(X_train, y_train, batch_size = 1, epochs = 100)"
   ]
  },
  {
   "cell_type": "code",
   "execution_count": 18,
   "metadata": {},
   "outputs": [
    {
     "name": "stdout",
     "output_type": "stream",
     "text": [
      "[[1.0000000e+00]\n",
      " [1.9818544e-05]\n",
      " [0.0000000e+00]\n",
      " [0.0000000e+00]\n",
      " [0.0000000e+00]\n",
      " [0.0000000e+00]\n",
      " [0.0000000e+00]\n",
      " [0.0000000e+00]\n",
      " [0.0000000e+00]\n",
      " [0.0000000e+00]\n",
      " [7.2389841e-05]\n",
      " [8.8274479e-05]\n",
      " [0.0000000e+00]\n",
      " [5.9604645e-08]\n",
      " [3.0100346e-05]\n",
      " [1.0000000e+00]\n",
      " [0.0000000e+00]\n",
      " [1.0000000e+00]\n",
      " [1.0000000e+00]\n",
      " [1.0000000e+00]]\n"
     ]
    }
   ],
   "source": [
    "pred = classifier.predict(X_test)\n",
    "print(pred[:20])"
   ]
  },
  {
   "cell_type": "code",
   "execution_count": 19,
   "metadata": {},
   "outputs": [
    {
     "name": "stdout",
     "output_type": "stream",
     "text": [
      "[[ True]\n",
      " [False]\n",
      " [False]\n",
      " [False]\n",
      " [False]\n",
      " [False]\n",
      " [False]\n",
      " [False]\n",
      " [False]\n",
      " [False]\n",
      " [False]\n",
      " [False]\n",
      " [False]\n",
      " [False]\n",
      " [False]\n",
      " [ True]\n",
      " [False]\n",
      " [ True]\n",
      " [ True]\n",
      " [ True]]\n"
     ]
    }
   ],
   "source": [
    "pred = (pred > 0.5)\n",
    "print(pred[:20])"
   ]
  },
  {
   "cell_type": "code",
   "execution_count": 20,
   "metadata": {
    "collapsed": true
   },
   "outputs": [],
   "source": [
    "from sklearn.metrics import confusion_matrix\n",
    "cm = confusion_matrix(y_test, pred)"
   ]
  },
  {
   "cell_type": "code",
   "execution_count": 21,
   "metadata": {},
   "outputs": [
    {
     "data": {
      "text/plain": [
       "array([[67,  0],\n",
       "       [ 3, 44]], dtype=int64)"
      ]
     },
     "execution_count": 21,
     "metadata": {},
     "output_type": "execute_result"
    }
   ],
   "source": [
    "cm"
   ]
  },
  {
   "cell_type": "code",
   "execution_count": null,
   "metadata": {
    "collapsed": true
   },
   "outputs": [],
   "source": []
  }
 ],
 "metadata": {
  "kernelspec": {
   "display_name": "Python 3",
   "language": "python",
   "name": "python3"
  },
  "language_info": {
   "codemirror_mode": {
    "name": "ipython",
    "version": 3
   },
   "file_extension": ".py",
   "mimetype": "text/x-python",
   "name": "python",
   "nbconvert_exporter": "python",
   "pygments_lexer": "ipython3",
   "version": "3.6.2"
  }
 },
 "nbformat": 4,
 "nbformat_minor": 2
}
